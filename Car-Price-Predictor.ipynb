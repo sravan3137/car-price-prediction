{
 "cells": [
  {
   "cell_type": "code",
   "execution_count": 3,
   "id": "bc28d2c6-8c32-4312-8288-da1420e5785b",
   "metadata": {},
   "outputs": [],
   "source": [
    "import pandas as pd\n",
    "import numpy as np"
   ]
  },
  {
   "cell_type": "code",
   "execution_count": 5,
   "id": "c18d5d39-09df-48b8-98c4-4f859ff57928",
   "metadata": {},
   "outputs": [],
   "source": [
    "df = pd.read_csv('processes2.csv')\n",
    "df.replace(r'^\\s*$', np.nan, regex=True, inplace=True)"
   ]
  },
  {
   "cell_type": "code",
   "execution_count": 6,
   "id": "45515d36-ed5e-4cf5-a86f-7e3cc3dbdc93",
   "metadata": {},
   "outputs": [],
   "source": [
    "X=df.drop(columns=['selling_price'])\n",
    "Y=df['selling_price']\n",
    "\n",
    "\n",
    "num_cols=X.select_dtypes(include=['float64','int64']).columns\n",
    "cat_cols=X.select_dtypes(include=['object']).columns\n",
    "from sklearn.impute import SimpleImputer\n",
    "from sklearn.compose import ColumnTransformer\n",
    "from sklearn.preprocessing import OneHotEncoder\n",
    "from sklearn.pipeline import Pipeline\n",
    "from sklearn.preprocessing import StandardScaler\n",
    "\n",
    "num_pipeline = Pipeline([\n",
    "    ('imputer', SimpleImputer(strategy='mean')),\n",
    "    ('scaler', StandardScaler())\n",
    "])\n",
    "\n",
    "cat_pipeline = Pipeline([\n",
    "    ('imputer', SimpleImputer(strategy='most_frequent')),\n",
    "    ('onehot', OneHotEncoder(handle_unknown='ignore', sparse_output=False))\n",
    "])\n"
   ]
  },
  {
   "cell_type": "code",
   "execution_count": 7,
   "id": "e49f1914-5d53-4aa4-b1b7-3d99a6b5dff8",
   "metadata": {
    "scrolled": true
   },
   "outputs": [],
   "source": [
    "\n",
    "\n",
    "preprocessor = ColumnTransformer(\n",
    "    transformers=[\n",
    "        ('num', num_pipeline, num_cols),\n",
    "        ('cat', cat_pipeline, cat_cols)\n",
    "    ]\n",
    ")\n",
    "X_transformed = preprocessor.fit_transform(X)\n",
    "\n",
    "onehot_columns = preprocessor.named_transformers_['cat']['onehot'].get_feature_names_out(cat_cols)\n",
    "all_columns = list(num_cols) + list(onehot_columns)\n",
    "\n",
    "X = pd.DataFrame(X_transformed, columns=all_columns)\n"
   ]
  },
  {
   "cell_type": "code",
   "execution_count": 8,
   "id": "53c37831-bb3e-416a-a153-1a9cc7f60036",
   "metadata": {},
   "outputs": [],
   "source": [
    "from sklearn.model_selection import train_test_split\n",
    "X_train,X_test,Y_train,Y_test = train_test_split(X,Y,test_size=0.2,random_state=75)"
   ]
  },
  {
   "cell_type": "code",
   "execution_count": 9,
   "id": "530c6e72-be44-449b-8778-bce365c1aa19",
   "metadata": {},
   "outputs": [],
   "source": [
    "from sklearn.ensemble import RandomForestRegressor\n",
    "from sklearn.metrics import mean_squared_error,r2_score\n",
    "model = RandomForestRegressor(n_estimators=100,random_state=42)\n",
    "model.fit(X_train,Y_train)\n",
    "Y_pred = model.predict(X_test)\n",
    "mse = mean_squared_error(Y_test,Y_pred)\n",
    "r2 = r2_score(Y_test,Y_pred)"
   ]
  },
  {
   "cell_type": "code",
   "execution_count": 10,
   "id": "a5790a9d-e8c1-4f45-9d5e-3f4ef36282b0",
   "metadata": {},
   "outputs": [
    {
     "name": "stdout",
     "output_type": "stream",
     "text": [
      "mean_squared_error:5676928162.631129\n",
      "r2_score: 0.8902467093900217\n"
     ]
    }
   ],
   "source": [
    "print(f\"mean_squared_error:{mse}\")\n",
    "print(f\"r2_score: {r2}\")"
   ]
  },
  {
   "cell_type": "code",
   "execution_count": null,
   "id": "e32e695f-e3e3-4e0d-b1f1-892ca08e4db3",
   "metadata": {},
   "outputs": [],
   "source": []
  },
  {
   "cell_type": "code",
   "execution_count": null,
   "id": "5fe4f0d5-a7c1-408d-b94a-893f63d79989",
   "metadata": {},
   "outputs": [],
   "source": []
  }
 ],
 "metadata": {
  "kernelspec": {
   "display_name": "Python 3 (ipykernel)",
   "language": "python",
   "name": "python3"
  },
  "language_info": {
   "codemirror_mode": {
    "name": "ipython",
    "version": 3
   },
   "file_extension": ".py",
   "mimetype": "text/x-python",
   "name": "python",
   "nbconvert_exporter": "python",
   "pygments_lexer": "ipython3",
   "version": "3.11.7"
  }
 },
 "nbformat": 4,
 "nbformat_minor": 5
}
